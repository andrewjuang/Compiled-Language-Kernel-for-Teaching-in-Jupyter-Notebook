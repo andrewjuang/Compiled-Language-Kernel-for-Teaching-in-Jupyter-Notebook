{
 "cells": [
  {
   "cell_type": "code",
   "execution_count": null,
   "metadata": {},
   "outputs": [],
   "source": [
    "%%javascript\n",
    "//MUST BE RUN IN PYTHON 3 KERNEL FIRST, THEN RUN IN ANEWCPPKERNELFORLIST\n",
    "var cells = Jupyter.notebook.get_cells();\n",
    "var list = [];\n",
    "function replaceAll(string, token, newtoken) \n",
    "{\n",
    "    if(token!=newtoken)\n",
    "    {\n",
    "        while(string.indexOf(token) > -1) \n",
    "        {\n",
    "            string = string.replace(token, newtoken);\n",
    "        }\n",
    "        return string;\n",
    "    }\n",
    "}\n",
    "\n",
    "for (var i = 1; i <= cells.length - 1; i++)\n",
    "{\n",
    "    var cell = cells[i];\n",
    "    if(cell.cell_type === \"code\")\n",
    "    {\n",
    "        var code = JSON.stringify(cell);\n",
    "        var trialcode = cell.celltoolbar.cell.element[0].innerText;\n",
    "        console.log(trialcode)\n",
    "        var trialcode = trialcode.split('File')[0];\n",
    "        var truecode = trialcode.replace(/In [ ]:/ig, \"\");\n",
    "        var aNewCode = truecode.split(/In(.+)/)[2];\n",
    "        list.push(aNewCode);\n",
    "        console.log(window);  \n",
    "    }\n",
    "}\n",
    "\n",
    "var secondList = list.join(\"\\n\");\n",
    "var newList = replaceAll(secondList, \"In [ ]:\", \"\");\n",
    "var anotherList = newList.replace(/\\n/ig, \"/*comment*/\");\n",
    "var finalList = anotherList.replace('\\\\n',\"/*sillyplaceholder*/\");\n",
    "var kernel = Jupyter.notebook.kernel;\n",
    "var fileSend = \"coding = \" + \"'\"+finalList+\"'\";\n",
    "kernel.execute(fileSend);\n",
    "var command = \"import pickle\" + \"\\n\" + \"file_name = 'afifthattempt'\" + \"\\n\" + \"with open(file_name,'wb') as my_file_obj:\" + \"\\n\" + \"    pickle.dump(coding,my_file_obj)\";\n",
    "kernel.execute(command);\n",
    "//console.log(finalList)"
   ]
  },
  {
   "cell_type": "markdown",
   "metadata": {},
   "source": [
    "Hello, this is a test!"
   ]
  },
  {
   "cell_type": "code",
   "execution_count": null,
   "metadata": {},
   "outputs": [],
   "source": [
    "#include <stdio.h>\n",
    "#include <iostream>\n",
    "extern const int x = 5;"
   ]
  },
  {
   "cell_type": "markdown",
   "metadata": {},
   "source": [
    "Hurrah for tests!"
   ]
  },
  {
   "cell_type": "code",
   "execution_count": null,
   "metadata": {
    "collapsed": true
   },
   "outputs": [],
   "source": [
    "int foo()\n",
    "{\n",
    "    printf(\"This is the Foo Function\");\n",
    "    return 0;\n",
    "}"
   ]
  },
  {
   "cell_type": "markdown",
   "metadata": {},
   "source": [
    "Main here!"
   ]
  },
  {
   "cell_type": "code",
   "execution_count": null,
   "metadata": {
    "collapsed": true
   },
   "outputs": [],
   "source": [
    "int main()\n",
    "{\n",
    "    printf(\"The answer is %i \\n\", x);\n",
    "    foo();\n",
    "}\n",
    "/*no global variables?*/\n"
   ]
  }
 ],
 "metadata": {
  "kernelspec": {
   "display_name": "Python 3",
   "language": "python",
   "name": "python3"
  },
  "language_info": {
   "codemirror_mode": {
    "name": "ipython",
    "version": 3
   },
   "file_extension": ".py",
   "mimetype": "text/x-python",
   "name": "python",
   "nbconvert_exporter": "python",
   "pygments_lexer": "ipython3",
   "version": "3.6.1"
  }
 },
 "nbformat": 4,
 "nbformat_minor": 2
}
