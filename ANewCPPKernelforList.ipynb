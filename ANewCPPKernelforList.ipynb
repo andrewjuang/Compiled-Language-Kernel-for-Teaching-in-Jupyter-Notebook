{
 "cells": [
  {
   "cell_type": "markdown",
   "metadata": {},
   "source": [
    "# Testing CPP compiling in Jupyter\n",
    "https://www.packtpub.com/books/content/customizing-ipython\n"
   ]
  },
  {
   "cell_type": "code",
   "execution_count": 3,
   "metadata": {},
   "outputs": [
    {
     "name": "stderr",
     "output_type": "stream",
     "text": [
      "A subdirectory or file anewcppkernelforlist already exists.\n"
     ]
    }
   ],
   "source": [
    "#make a directory for the e ntire kernel\n",
    "%mkdir anewcppkernelforlist"
   ]
  },
  {
   "cell_type": "raw",
   "metadata": {},
   "source": [
    "'''used to be for obtaining the notebook name, but as magic commands such\n",
    "as %store were not working for me, I opted out of using this. Plus \n",
    "the Javascript was being very uncooperative.'''\n",
    "%%writefile anewcppkernel/cpp_kernel.py \n",
    "from IPython.display import Javascript\n",
    "Javascript(\"\"\"\n",
    "            var kernel = IPython.notebook.kernel;\n",
    "            var body = document.body,  \n",
    "            attribs = body.attributes;\n",
    "            var command = \"theNotebook = \" + \"'\"+attribs['data-notebook-name'].value+\"'\";\n",
    "            kernel.execute(command);\"\"\")"
   ]
  },
  {
   "cell_type": "markdown",
   "metadata": {},
   "source": [
    "Above code does not work in function. Have to find work around still"
   ]
  },
  {
   "cell_type": "markdown",
   "metadata": {},
   "source": [
    "What if I make it so that you place the file name above the rest of the code in the markdown cell, and then my program reads that first markdown as the title and adds .ipynb to the end?"
   ]
  },
  {
   "cell_type": "code",
   "execution_count": 4,
   "metadata": {},
   "outputs": [
    {
     "name": "stdout",
     "output_type": "stream",
     "text": [
      "Overwriting anewcppkernelforlist/cpp_kernel.py\n"
     ]
    }
   ],
   "source": [
    "%%writefile anewcppkernelforlist/cpp_kernel.py\n",
    "\n",
    "'''Import time was an attempted workaround to the Javascript problem, \n",
    "serves no purpose now'''\n",
    "import time\n",
    "time.sleep(0)\n",
    "import os\n",
    "import os.path as op\n",
    "import tempfile\n",
    "import subprocess\n",
    "from IPython import get_ipython\n",
    "'''Imports pickle module which is used in order to create another\n",
    "    file to store the name of the document somewhere accessible. Here it is\n",
    "    retrieving the file made within the test cpp file'''\n",
    "import pickle\n",
    "# Selects the file previously made within the notebook to be processed\n",
    "file_name = \"afifthattempt\"\n",
    "# Open the file for reading\n",
    "file_object = open(file_name,'rb')  \n",
    "# loads the object into the variable 'theNotebook' as the name of the file\n",
    "mainList = pickle.load(file_object)\n",
    "mainList = mainList.replace('/*comment*/','\\n' )\n",
    "mainList = mainList.replace(u'\\u200b', '')\n",
    "mainList = mainList.replace('/*sillyplaceholder*/', '\\\\n') \n",
    "\n",
    "\n",
    "\n",
    "\n",
    "# We import the `getoutput()` function provided by IPython.\n",
    "# It allows us to do system calls from Python.\n",
    "from IPython.utils.process import getoutput\n",
    "\n",
    "def exec_cpp():\n",
    "\n",
    "    with tempfile.TemporaryDirectory() as tmpdir:\n",
    "\n",
    "        # We define the source and executable filenames.\n",
    "        source_path = op.join(tmpdir, 'temp.cpp')\n",
    "        program_path = op.join(tmpdir, 'temp')\n",
    "\n",
    "        with open(source_path, 'w') as f:\n",
    "                    f.write(mainList)\n",
    "        proc = subprocess.Popen(\"g++ {0:s} -o {1:s}\".format(source_path, program_path), stdout=subprocess.PIPE, stderr=subprocess.PIPE, shell=False)\n",
    "        return_code = proc.wait()\n",
    "        out = proc.stdout.read()\n",
    "        err = proc.stderr.read()\n",
    "\n",
    "        if (err):\n",
    "            return(err.decode('utf-8'))\n",
    "        else:\n",
    "            return(getoutput(program_path))\n"
   ]
  },
  {
   "cell_type": "code",
   "execution_count": 5,
   "metadata": {},
   "outputs": [
    {
     "name": "stdout",
     "output_type": "stream",
     "text": [
      "Appending to anewcppkernelforlist/cpp_kernel.py\n"
     ]
    }
   ],
   "source": [
    "%%writefile -a anewcppkernelforlist/cpp_kernel.py\n",
    "\n",
    "from ipykernel.kernelbase import Kernel\n",
    "\n",
    "class CppKernel(Kernel):\n",
    "\n",
    "    # Kernel information.\n",
    "    implementation = 'C++'\n",
    "    implementation_version = '1.0'\n",
    "    language = 'c++'\n",
    "    language_version = '1.0'\n",
    "    language_info = {'name': 'c++',\n",
    "                    'mimetype': 'text/plain'}\n",
    "    banner = \"C++ kernel\"\n",
    "    #Function that calls upon returned result from above\n",
    "    def do_execute(self, y, silent,#Silent = empty from what I saw, could be wrong\n",
    "                   store_history=True,\n",
    "                   user_expressions=None,\n",
    "                   allow_stdin=False):\n",
    "        \"\"\"This function is called when a code cell is\n",
    "        executed.\"\"\"\n",
    "\n",
    "        if not silent:\n",
    "\n",
    "            # We run the C++ code and get the output.\n",
    "            output = exec_cpp()\n",
    "            # We send back the result to the frontend.\n",
    "            stream_content = {'name': 'stdout','text': output}\n",
    "            self.send_response(self.iopub_socket,'stream', stream_content)\n",
    "            return {'status': 'ok',\n",
    "                    # The base class increments the execution\n",
    "                    # count\n",
    "                    'execution_count': self.execution_count,\n",
    "                    'payload': [],\n",
    "                    'user_expressions': {},\n",
    "                   }\n",
    "\n",
    "if __name__ == '__main__': #Since __name__ always == __main__, the function here\n",
    "    #always starts up and runs the kernel\n",
    "    from ipykernel.kernelapp import IPKernelApp\n",
    "    IPKernelApp.launch_instance(kernel_class=CppKernel)"
   ]
  },
  {
   "cell_type": "code",
   "execution_count": 6,
   "metadata": {},
   "outputs": [
    {
     "name": "stdout",
     "output_type": "stream",
     "text": [
      "Overwriting anewcppkernelforlist/kernel.json\n"
     ]
    }
   ],
   "source": [
    "%%writefile anewcppkernelforlist/kernel.json\n",
    "        {\n",
    "            \"argv\": [\"python\",\n",
    "                     \"anewcppkernelforlist/cpp_kernel.py\",\n",
    "                     \"-f\",\n",
    "                     \"{connection_file}\"\n",
    "                    ],\n",
    "            \"display_name\": \"ANewCPPKernelforList\"\n",
    "        }\n"
   ]
  },
  {
   "cell_type": "code",
   "execution_count": 7,
   "metadata": {},
   "outputs": [
    {
     "name": "stderr",
     "output_type": "stream",
     "text": [
      "[InstallKernelSpec] Removing existing kernelspec in C:\\Users\\AWCGG\\AppData\\Roaming\\jupyter\\kernels\\anewcppkernelforlist\n",
      "[InstallKernelSpec] Installed kernelspec anewcppkernelforlist in C:\\Users\\AWCGG\\AppData\\Roaming\\jupyter\\kernels\\anewcppkernelforlist\n"
     ]
    },
    {
     "name": "stdout",
     "output_type": "stream",
     "text": [
      "Available kernels:\n",
      "  anewcppkernel                C:\\Users\\AWCGG\\AppData\\Roaming\\jupyter\\kernels\\anewcppkernel\n",
      "  anewcppkernelforlist         C:\\Users\\AWCGG\\AppData\\Roaming\\jupyter\\kernels\\anewcppkernelforlist\n",
      "  anewcppkernelforlisttrial    C:\\Users\\AWCGG\\AppData\\Roaming\\jupyter\\kernels\\anewcppkernelforlisttrial\n",
      "  cpp                          C:\\Users\\AWCGG\\AppData\\Roaming\\jupyter\\kernels\\cpp\n",
      "  cpp2                         C:\\Users\\AWCGG\\AppData\\Roaming\\jupyter\\kernels\\cpp2\n",
      "  cpp3                         C:\\Users\\AWCGG\\AppData\\Roaming\\jupyter\\kernels\\cpp3\n",
      "  cpptest                      C:\\Users\\AWCGG\\AppData\\Roaming\\jupyter\\kernels\\cpptest\n",
      "  cpptest2                     C:\\Users\\AWCGG\\AppData\\Roaming\\jupyter\\kernels\\cpptest2\n",
      "  cpptest3                     C:\\Users\\AWCGG\\AppData\\Roaming\\jupyter\\kernels\\cpptest3\n",
      "  cpptest7                     C:\\Users\\AWCGG\\AppData\\Roaming\\jupyter\\kernels\\cpptest7\n",
      "  cpptestb                     C:\\Users\\AWCGG\\AppData\\Roaming\\jupyter\\kernels\\cpptestb\n",
      "  cpptestc                     C:\\Users\\AWCGG\\AppData\\Roaming\\jupyter\\kernels\\cpptestc\n",
      "  cpptestd                     C:\\Users\\AWCGG\\AppData\\Roaming\\jupyter\\kernels\\cpptestd\n",
      "  cpptesten                    C:\\Users\\AWCGG\\AppData\\Roaming\\jupyter\\kernels\\cpptesten\n",
      "  cpptesti                     C:\\Users\\AWCGG\\AppData\\Roaming\\jupyter\\kernels\\cpptesti\n",
      "  cpptestn                     C:\\Users\\AWCGG\\AppData\\Roaming\\jupyter\\kernels\\cpptestn\n",
      "  cpptestq                     C:\\Users\\AWCGG\\AppData\\Roaming\\jupyter\\kernels\\cpptestq\n",
      "  cpptestrpc                   C:\\Users\\AWCGG\\AppData\\Roaming\\jupyter\\kernels\\cpptestrpc\n",
      "  cpptestrpk                   C:\\Users\\AWCGG\\AppData\\Roaming\\jupyter\\kernels\\cpptestrpk\n",
      "  cpptestrps                   C:\\Users\\AWCGG\\AppData\\Roaming\\jupyter\\kernels\\cpptestrps\n",
      "  cpptesttba                   C:\\Users\\AWCGG\\AppData\\Roaming\\jupyter\\kernels\\cpptesttba\n",
      "  cpptesttbd                   C:\\Users\\AWCGG\\AppData\\Roaming\\jupyter\\kernels\\cpptesttbd\n",
      "  cpptestw                     C:\\Users\\AWCGG\\AppData\\Roaming\\jupyter\\kernels\\cpptestw\n",
      "  cpptestx                     C:\\Users\\AWCGG\\AppData\\Roaming\\jupyter\\kernels\\cpptestx\n",
      "  py                           C:\\Users\\AWCGG\\AppData\\Roaming\\jupyter\\kernels\\py\n",
      "  py2                          C:\\Users\\AWCGG\\AppData\\Roaming\\jupyter\\kernels\\py2\n",
      "  py3                          C:\\Users\\AWCGG\\AppData\\Roaming\\jupyter\\kernels\\py3\n",
      "  py4                          C:\\Users\\AWCGG\\AppData\\Roaming\\jupyter\\kernels\\py4\n",
      "  py5                          C:\\Users\\AWCGG\\AppData\\Roaming\\jupyter\\kernels\\py5\n",
      "  py6                          C:\\Users\\AWCGG\\AppData\\Roaming\\jupyter\\kernels\\py6\n",
      "  py7                          C:\\Users\\AWCGG\\AppData\\Roaming\\jupyter\\kernels\\py7\n",
      "  py8                          C:\\Users\\AWCGG\\AppData\\Roaming\\jupyter\\kernels\\py8\n",
      "  pythonhaha                   C:\\Users\\AWCGG\\AppData\\Roaming\\jupyter\\kernels\\pythonhaha\n",
      "  python3                      D:\\Anaconda3\\share\\jupyter\\kernels\\python3\n",
      "  sos                          D:\\Anaconda3\\share\\jupyter\\kernels\\sos\n"
     ]
    }
   ],
   "source": [
    "!jupyter kernelspec install --replace --user anewcppkernelforlist\n",
    "!jupyter kernelspec list"
   ]
  },
  {
   "cell_type": "code",
   "execution_count": 19,
   "metadata": {},
   "outputs": [
    {
     "name": "stdout",
     "output_type": "stream",
     "text": [
      "g++ temporary.cpp -o myoutput.exe\n"
     ]
    }
   ],
   "source": [
    "source_path = \"temporary.cpp\"\n",
    "program_path = \"myoutput.exe\"\n",
    "cmd = \"g++ {0:s} -o {1:s}\".format(source_path, program_path)\n",
    "print(cmd)"
   ]
  },
  {
   "cell_type": "code",
   "execution_count": 14,
   "metadata": {
    "collapsed": true
   },
   "outputs": [],
   "source": [
    "!g++ _temp.cpp"
   ]
  },
  {
   "cell_type": "code",
   "execution_count": 16,
   "metadata": {},
   "outputs": [
    {
     "name": "stdout",
     "output_type": "stream",
     "text": [
      "Hello world!\n"
     ]
    }
   ],
   "source": [
    "!myoutput.exe"
   ]
  },
  {
   "cell_type": "code",
   "execution_count": null,
   "metadata": {
    "collapsed": true
   },
   "outputs": [],
   "source": []
  }
 ],
 "metadata": {
  "kernelspec": {
   "display_name": "Python 3",
   "language": "python",
   "name": "python3"
  },
  "language_info": {
   "codemirror_mode": {
    "name": "ipython",
    "version": 3
   },
   "file_extension": ".py",
   "mimetype": "text/x-python",
   "name": "python",
   "nbconvert_exporter": "python",
   "pygments_lexer": "ipython3",
   "version": "3.6.1"
  }
 },
 "nbformat": 4,
 "nbformat_minor": 2
}
